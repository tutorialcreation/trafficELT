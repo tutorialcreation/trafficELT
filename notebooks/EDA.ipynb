{
 "cells": [
  {
   "cell_type": "code",
   "execution_count": 2,
   "id": "67aa6eb5",
   "metadata": {},
   "outputs": [],
   "source": [
    "import pandas as pd"
   ]
  },
  {
   "cell_type": "code",
   "execution_count": 10,
   "id": "12abfbb5",
   "metadata": {},
   "outputs": [
    {
     "name": "stderr",
     "output_type": "stream",
     "text": [
      "/tmp/ipykernel_350513/481576167.py:1: ParserWarning: Falling back to the 'python' engine because the 'c' engine does not support regex separators (separators > 1 char and different from '\\s+' are interpreted as regex); you can avoid this warning by specifying engine='python'.\n",
      "  df = pd.read_csv(\"../data/dataset.csv\",sep=\"[,;:]\",index_col=False)\n",
      "/tmp/ipykernel_350513/481576167.py:1: ParserWarning: Length of header or names does not match length of data. This leads to a loss of data with index_col=False.\n",
      "  df = pd.read_csv(\"../data/dataset.csv\",sep=\"[,;:]\",index_col=False)\n"
     ]
    }
   ],
   "source": [
    "df = pd.read_csv(\"../data/dataset.csv\",sep=\"[,;:]\",index_col=False)"
   ]
  },
  {
   "cell_type": "code",
   "execution_count": 11,
   "id": "3ef2bfef",
   "metadata": {},
   "outputs": [
    {
     "data": {
      "text/html": [
       "<div>\n",
       "<style scoped>\n",
       "    .dataframe tbody tr th:only-of-type {\n",
       "        vertical-align: middle;\n",
       "    }\n",
       "\n",
       "    .dataframe tbody tr th {\n",
       "        vertical-align: top;\n",
       "    }\n",
       "\n",
       "    .dataframe thead th {\n",
       "        text-align: right;\n",
       "    }\n",
       "</style>\n",
       "<table border=\"1\" class=\"dataframe\">\n",
       "  <thead>\n",
       "    <tr style=\"text-align: right;\">\n",
       "      <th></th>\n",
       "      <th>track_id</th>\n",
       "      <th>type</th>\n",
       "      <th>traveled_d</th>\n",
       "      <th>avg_speed</th>\n",
       "      <th>lat</th>\n",
       "      <th>lon</th>\n",
       "      <th>speed</th>\n",
       "      <th>lon_acc</th>\n",
       "      <th>lat_acc</th>\n",
       "      <th>time</th>\n",
       "    </tr>\n",
       "  </thead>\n",
       "  <tbody>\n",
       "    <tr>\n",
       "      <th>0</th>\n",
       "      <td>1</td>\n",
       "      <td>Car</td>\n",
       "      <td>255.81</td>\n",
       "      <td>17.986295</td>\n",
       "      <td>37.978744</td>\n",
       "      <td>23.736186</td>\n",
       "      <td>22.2066</td>\n",
       "      <td>0.1278</td>\n",
       "      <td>0.0175</td>\n",
       "      <td>5.0</td>\n",
       "    </tr>\n",
       "    <tr>\n",
       "      <th>1</th>\n",
       "      <td>2</td>\n",
       "      <td>Motorcycle</td>\n",
       "      <td>230.33</td>\n",
       "      <td>21.936589</td>\n",
       "      <td>37.978843</td>\n",
       "      <td>23.736404</td>\n",
       "      <td>14.9928</td>\n",
       "      <td>-0.3542</td>\n",
       "      <td>0.4299</td>\n",
       "      <td>5.0</td>\n",
       "    </tr>\n",
       "    <tr>\n",
       "      <th>2</th>\n",
       "      <td>3</td>\n",
       "      <td>Motorcycle</td>\n",
       "      <td>190.95</td>\n",
       "      <td>11.087628</td>\n",
       "      <td>37.978651</td>\n",
       "      <td>23.735995</td>\n",
       "      <td>19.9242</td>\n",
       "      <td>-0.2388</td>\n",
       "      <td>0.0128</td>\n",
       "      <td>5.0</td>\n",
       "    </tr>\n",
       "    <tr>\n",
       "      <th>3</th>\n",
       "      <td>4</td>\n",
       "      <td>Car</td>\n",
       "      <td>285.93</td>\n",
       "      <td>10.812520</td>\n",
       "      <td>37.978601</td>\n",
       "      <td>23.735891</td>\n",
       "      <td>18.3630</td>\n",
       "      <td>0.0792</td>\n",
       "      <td>-0.0318</td>\n",
       "      <td>5.0</td>\n",
       "    </tr>\n",
       "    <tr>\n",
       "      <th>4</th>\n",
       "      <td>5</td>\n",
       "      <td>Taxi</td>\n",
       "      <td>299.02</td>\n",
       "      <td>11.829476</td>\n",
       "      <td>37.978530</td>\n",
       "      <td>23.735759</td>\n",
       "      <td>17.3032</td>\n",
       "      <td>-0.0778</td>\n",
       "      <td>0.0640</td>\n",
       "      <td>5.0</td>\n",
       "    </tr>\n",
       "  </tbody>\n",
       "</table>\n",
       "</div>"
      ],
      "text/plain": [
       "   track_id         type   traveled_d   avg_speed        lat        lon  \\\n",
       "0         1          Car       255.81   17.986295  37.978744  23.736186   \n",
       "1         2   Motorcycle       230.33   21.936589  37.978843  23.736404   \n",
       "2         3   Motorcycle       190.95   11.087628  37.978651  23.735995   \n",
       "3         4          Car       285.93   10.812520  37.978601  23.735891   \n",
       "4         5         Taxi       299.02   11.829476  37.978530  23.735759   \n",
       "\n",
       "     speed   lon_acc   lat_acc   time  \n",
       "0  22.2066    0.1278    0.0175    5.0  \n",
       "1  14.9928   -0.3542    0.4299    5.0  \n",
       "2  19.9242   -0.2388    0.0128    5.0  \n",
       "3  18.3630    0.0792   -0.0318    5.0  \n",
       "4  17.3032   -0.0778    0.0640    5.0  "
      ]
     },
     "execution_count": 11,
     "metadata": {},
     "output_type": "execute_result"
    }
   ],
   "source": [
    "df.head()"
   ]
  },
  {
   "cell_type": "code",
   "execution_count": 12,
   "id": "c8547420",
   "metadata": {},
   "outputs": [
    {
     "data": {
      "text/plain": [
       "10"
      ]
     },
     "execution_count": 12,
     "metadata": {},
     "output_type": "execute_result"
    }
   ],
   "source": [
    "len(df.columns)"
   ]
  },
  {
   "cell_type": "code",
   "execution_count": 13,
   "id": "7c277b85",
   "metadata": {},
   "outputs": [
    {
     "data": {
      "text/plain": [
       "(995, 10)"
      ]
     },
     "execution_count": 13,
     "metadata": {},
     "output_type": "execute_result"
    }
   ],
   "source": [
    "df.shape"
   ]
  }
 ],
 "metadata": {
  "kernelspec": {
   "display_name": "Python 3 (ipykernel)",
   "language": "python",
   "name": "python3"
  },
  "language_info": {
   "codemirror_mode": {
    "name": "ipython",
    "version": 3
   },
   "file_extension": ".py",
   "mimetype": "text/x-python",
   "name": "python",
   "nbconvert_exporter": "python",
   "pygments_lexer": "ipython3",
   "version": "3.9.13"
  }
 },
 "nbformat": 4,
 "nbformat_minor": 5
}
